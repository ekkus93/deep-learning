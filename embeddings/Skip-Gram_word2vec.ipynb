{
 "cells": [
  {
   "cell_type": "markdown",
   "metadata": {},
   "source": [
    "# Skip-gram word2vec\n",
    "\n",
    "In this notebook, I'll lead you through using TensorFlow to implement the word2vec algorithm using the skip-gram architecture. By implementing this, you'll learn about embedding words for use in natural language processing. This will come in handy when dealing with things like machine translation.\n",
    "\n",
    "## Readings\n",
    "\n",
    "Here are the resources I used to build this notebook. I suggest reading these either beforehand or while you're working on this material.\n",
    "\n",
    "* A really good [conceptual overview](http://mccormickml.com/2016/04/19/word2vec-tutorial-the-skip-gram-model/) of word2vec from Chris McCormick \n",
    "* [First word2vec paper](https://arxiv.org/pdf/1301.3781.pdf) from Mikolov et al.\n",
    "* [NIPS paper](http://papers.nips.cc/paper/5021-distributed-representations-of-words-and-phrases-and-their-compositionality.pdf) with improvements for word2vec also from Mikolov et al.\n",
    "* An [implementation of word2vec](http://www.thushv.com/natural_language_processing/word2vec-part-1-nlp-with-deep-learning-with-tensorflow-skip-gram/) from Thushan Ganegedara\n",
    "* TensorFlow [word2vec tutorial](https://www.tensorflow.org/tutorials/word2vec)\n",
    "\n",
    "## Word embeddings\n",
    "\n",
    "When you're dealing with words in text, you end up with tens of thousands of classes to predict, one for each word. Trying to one-hot encode these words is massively inefficient, you'll have one element set to 1 and the other 50,000 set to 0. The matrix multiplication going into the first hidden layer will have almost all of the resulting values be zero. This a huge waste of computation. \n",
    "\n",
    "![one-hot encodings](assets/one_hot_encoding.png)\n",
    "\n",
    "To solve this problem and greatly increase the efficiency of our networks, we use what are called embeddings. Embeddings are just a fully connected layer like you've seen before. We call this layer the embedding layer and the weights are embedding weights. We skip the multiplication into the embedding layer by instead directly grabbing the hidden layer values from the weight matrix. We can do this because the multiplication of a one-hot encoded vector with a matrix returns the row of the matrix corresponding the index of the \"on\" input unit.\n",
    "\n",
    "![lookup](assets/lookup_matrix.png)\n",
    "\n",
    "Instead of doing the matrix multiplication, we use the weight matrix as a lookup table. We encode the words as integers, for example \"heart\" is encoded as 958, \"mind\" as 18094. Then to get hidden layer values for \"heart\", you just take the 958th row of the embedding matrix. This process is called an **embedding lookup** and the number of hidden units is the **embedding dimension**.\n",
    "\n",
    "<img src='assets/tokenize_lookup.png' width=500>\n",
    " \n",
    "There is nothing magical going on here. The embedding lookup table is just a weight matrix. The embedding layer is just a hidden layer. The lookup is just a shortcut for the matrix multiplication. The lookup table is trained just like any weight matrix as well.\n",
    "\n",
    "Embeddings aren't only used for words of course. You can use them for any model where you have a massive number of classes. A particular type of model called **Word2Vec** uses the embedding layer to find vector representations of words that contain semantic meaning.\n",
    "\n"
   ]
  },
  {
   "cell_type": "markdown",
   "metadata": {},
   "source": [
    "## Word2Vec\n",
    "\n",
    "The word2vec algorithm finds much more efficient representations by finding vectors that represent the words. These vectors also contain semantic information about the words. Words that show up in similar contexts, such as \"black\", \"white\", and \"red\" will have vectors near each other. There are two architectures for implementing word2vec, CBOW (Continuous Bag-Of-Words) and Skip-gram.\n",
    "\n",
    "<img src=\"assets/word2vec_architectures.png\" width=\"500\">\n",
    "\n",
    "In this implementation, we'll be using the skip-gram architecture because it performs better than CBOW. Here, we pass in a word and try to predict the words surrounding it in the text. In this way, we can train the network to learn representations for words that show up in similar contexts.\n",
    "\n",
    "First up, importing packages."
   ]
  },
  {
   "cell_type": "code",
   "execution_count": 1,
   "metadata": {
    "collapsed": true
   },
   "outputs": [],
   "source": [
    "import time\n",
    "\n",
    "import numpy as np\n",
    "import tensorflow as tf\n",
    "\n",
    "import utils"
   ]
  },
  {
   "cell_type": "markdown",
   "metadata": {},
   "source": [
    "Load the [text8 dataset](http://mattmahoney.net/dc/textdata.html), a file of cleaned up Wikipedia articles from Matt Mahoney. The next cell will download the data set to the `data` folder. Then you can extract it and delete the archive file to save storage space."
   ]
  },
  {
   "cell_type": "code",
   "execution_count": 2,
   "metadata": {},
   "outputs": [
    {
     "name": "stderr",
     "output_type": "stream",
     "text": [
      "Text8 Dataset: 31.4MB [00:28, 1.12MB/s]                            \n"
     ]
    }
   ],
   "source": [
    "from urllib.request import urlretrieve\n",
    "from os.path import isfile, isdir\n",
    "from tqdm import tqdm\n",
    "import zipfile\n",
    "\n",
    "dataset_folder_path = 'data'\n",
    "dataset_filename = 'text8.zip'\n",
    "dataset_name = 'Text8 Dataset'\n",
    "\n",
    "class DLProgress(tqdm):\n",
    "    last_block = 0\n",
    "\n",
    "    def hook(self, block_num=1, block_size=1, total_size=None):\n",
    "        self.total = total_size\n",
    "        self.update((block_num - self.last_block) * block_size)\n",
    "        self.last_block = block_num\n",
    "\n",
    "if not isfile(dataset_filename):\n",
    "    with DLProgress(unit='B', unit_scale=True, miniters=1, desc=dataset_name) as pbar:\n",
    "        urlretrieve(\n",
    "            'http://mattmahoney.net/dc/text8.zip',\n",
    "            dataset_filename,\n",
    "            pbar.hook)\n",
    "\n",
    "if not isdir(dataset_folder_path):\n",
    "    with zipfile.ZipFile(dataset_filename) as zip_ref:\n",
    "        zip_ref.extractall(dataset_folder_path)\n",
    "        \n",
    "with open('data/text8') as f:\n",
    "    text = f.read()"
   ]
  },
  {
   "cell_type": "markdown",
   "metadata": {},
   "source": [
    "## Preprocessing\n",
    "\n",
    "Here I'm fixing up the text to make training easier. This comes from the `utils` module I wrote. The `preprocess` function coverts any punctuation into tokens, so a period is changed to ` <PERIOD> `. In this data set, there aren't any periods, but it will help in other NLP problems. I'm also removing all words that show up five or fewer times in the dataset. This will greatly reduce issues due to noise in the data and improve the quality of the vector representations. If you want to write your own functions for this stuff, go for it."
   ]
  },
  {
   "cell_type": "code",
   "execution_count": 3,
   "metadata": {},
   "outputs": [
    {
     "name": "stdout",
     "output_type": "stream",
     "text": [
      "['anarchism', 'originated', 'as', 'a', 'term', 'of', 'abuse', 'first', 'used', 'against', 'early', 'working', 'class', 'radicals', 'including', 'the', 'diggers', 'of', 'the', 'english', 'revolution', 'and', 'the', 'sans', 'culottes', 'of', 'the', 'french', 'revolution', 'whilst']\n"
     ]
    }
   ],
   "source": [
    "words = utils.preprocess(text)\n",
    "print(words[:30])"
   ]
  },
  {
   "cell_type": "code",
   "execution_count": 4,
   "metadata": {},
   "outputs": [
    {
     "name": "stdout",
     "output_type": "stream",
     "text": [
      "Total words: 16680599\n",
      "Unique words: 63641\n"
     ]
    }
   ],
   "source": [
    "print(\"Total words: {}\".format(len(words)))\n",
    "print(\"Unique words: {}\".format(len(set(words))))"
   ]
  },
  {
   "cell_type": "markdown",
   "metadata": {},
   "source": [
    "And here I'm creating dictionaries to convert words to integers and backwards, integers to words. The integers are assigned in descending frequency order, so the most frequent word (\"the\") is given the integer 0 and the next most frequent is 1 and so on. The words are converted to integers and stored in the list `int_words`."
   ]
  },
  {
   "cell_type": "code",
   "execution_count": 5,
   "metadata": {
    "collapsed": true
   },
   "outputs": [],
   "source": [
    "vocab_to_int, int_to_vocab = utils.create_lookup_tables(words)\n",
    "int_words = [vocab_to_int[word] for word in words]"
   ]
  },
  {
   "cell_type": "markdown",
   "metadata": {},
   "source": [
    "## Subsampling\n",
    "\n",
    "Words that show up often such as \"the\", \"of\", and \"for\" don't provide much context to the nearby words. If we discard some of them, we can remove some of the noise from our data and in return get faster training and better representations. This process is called subsampling by Mikolov. For each word $w_i$ in the training set, we'll discard it with probability given by \n",
    "\n",
    "$$ P(w_i) = 1 - \\sqrt{\\frac{t}{f(w_i)}} $$\n",
    "\n",
    "where $t$ is a threshold parameter and $f(w_i)$ is the frequency of word $w_i$ in the total dataset.\n",
    "\n",
    "I'm going to leave this up to you as an exercise. This is more of a programming challenge, than about deep learning specifically. But, being able to prepare your data for your network is an important skill to have. Check out my solution to see how I did it.\n",
    "\n",
    "> **Exercise:** Implement subsampling for the words in `int_words`. That is, go through `int_words` and discard each word given the probablility $P(w_i)$ shown above. Note that $P(w_i)$ is the probability that a word is discarded. Assign the subsampled data to `train_words`."
   ]
  },
  {
   "cell_type": "code",
   "execution_count": 13,
   "metadata": {},
   "outputs": [],
   "source": [
    "from collections import Counter\n",
    "\n",
    "int_word_cnts = Counter(int_words)"
   ]
  },
  {
   "cell_type": "code",
   "execution_count": 47,
   "metadata": {},
   "outputs": [
    {
     "data": {
      "text/plain": [
       "4627711"
      ]
     },
     "execution_count": 47,
     "metadata": {},
     "output_type": "execute_result"
    }
   ],
   "source": [
    "## Your code here\n",
    "import math\n",
    "import random\n",
    "\n",
    "t = 1e-5\n",
    "total_cnt = float(sum([cnt for _,cnt in int_word_cnts.most_common()]))\n",
    "word_probs = {word_id: 1-math.sqrt(t/(cnt/total_cnt)) for word_id,cnt in int_word_cnts.most_common()}\n",
    "train_words = [word_id for word_id in int_words if random.random() < (1-word_probs[word_id])]\n",
    "len(train_words)"
   ]
  },
  {
   "cell_type": "markdown",
   "metadata": {},
   "source": [
    "## Making batches"
   ]
  },
  {
   "cell_type": "markdown",
   "metadata": {},
   "source": [
    "Now that our data is in good shape, we need to get it into the proper form to pass it into our network. With the skip-gram architecture, for each word in the text, we want to grab all the words in a window around that word, with size $C$. \n",
    "\n",
    "From [Mikolov et al.](https://arxiv.org/pdf/1301.3781.pdf): \n",
    "\n",
    "\"Since the more distant words are usually less related to the current word than those close to it, we give less weight to the distant words by sampling less from those words in our training examples... If we choose $C = 5$, for each training word we will select randomly a number $R$ in range $< 1; C >$, and then use $R$ words from history and $R$ words from the future of the current word as correct labels.\"\n",
    "\n",
    "> **Exercise:** Implement a function `get_target` that receives a list of words, an index, and a window size, then returns a list of words in the window around the index. Make sure to use the algorithm described above, where you choose a random number of words from the window."
   ]
  },
  {
   "cell_type": "code",
   "execution_count": 51,
   "metadata": {},
   "outputs": [],
   "source": [
    "def get_target(words, idx, window_size=5):\n",
    "    ''' Get a list of words in a window around an index. '''\n",
    "    \n",
    "    # Your code here\n",
    "    rnd_window_size = random.randint(1, window_size+1)\n",
    "    min_idx = max(0, idx-window_size)\n",
    "    max_idx = min(len(words), idx+window_size+1)\n",
    "    return list(set(words[min_idx: idx] + words[(idx+1): max_idx]))"
   ]
  },
  {
   "cell_type": "markdown",
   "metadata": {},
   "source": [
    "Here's a function that returns batches for our network. The idea is that it grabs `batch_size` words from a words list. Then for each of those words, it gets the target words in the window. I haven't found a way to pass in a random number of target words and get it to work with the architecture, so I make one row per input-target pair. This is a generator function by the way, helps save memory."
   ]
  },
  {
   "cell_type": "code",
   "execution_count": 59,
   "metadata": {
    "collapsed": true
   },
   "outputs": [],
   "source": [
    "def get_batches(words, batch_size, window_size=5):\n",
    "    ''' Create a generator of word batches as a tuple (inputs, targets) '''\n",
    "    \n",
    "    n_batches = len(words)//batch_size\n",
    "    \n",
    "    # only full batches\n",
    "    words = words[:n_batches*batch_size]\n",
    "    \n",
    "    for idx in range(0, len(words), batch_size):\n",
    "        x, y = [], []\n",
    "        batch = words[idx:idx+batch_size]\n",
    "        for ii in range(len(batch)):\n",
    "            batch_x = batch[ii]\n",
    "            batch_y = get_target(batch, ii, window_size)\n",
    "            y.extend(batch_y)\n",
    "            x.extend([batch_x]*len(batch_y))\n",
    "        yield x, y\n",
    "    "
   ]
  },
  {
   "cell_type": "markdown",
   "metadata": {},
   "source": [
    "## Building the graph\n",
    "\n",
    "From [Chris McCormick's blog](http://mccormickml.com/2016/04/19/word2vec-tutorial-the-skip-gram-model/), we can see the general structure of our network.\n",
    "![embedding_network](./assets/skip_gram_net_arch.png)\n",
    "\n",
    "The input words are passed in as integers. This will go into a hidden layer of linear units, then into a softmax layer. We'll use the softmax layer to make a prediction like normal.\n",
    "\n",
    "The idea here is to train the hidden layer weight matrix to find efficient representations for our words. We can discard the softmax layer becuase we don't really care about making predictions with this network. We just want the embedding matrix so we can use it in other networks we build from the dataset.\n",
    "\n",
    "I'm going to have you build the graph in stages now. First off, creating the `inputs` and `labels` placeholders like normal.\n",
    "\n",
    "> **Exercise:** Assign `inputs` and `labels` using `tf.placeholder`. We're going to be passing in integers, so set the data types to `tf.int32`. The batches we're passing in will have varying sizes, so set the batch sizes to [`None`]. To make things work later, you'll need to set the second dimension of `labels` to `None` or `1`."
   ]
  },
  {
   "cell_type": "code",
   "execution_count": 60,
   "metadata": {
    "collapsed": true
   },
   "outputs": [],
   "source": [
    "train_graph = tf.Graph()\n",
    "with train_graph.as_default():\n",
    "    inputs = tf.placeholder(tf.int32, shape=[None], name='inputs')\n",
    "    labels = tf.placeholder(tf.int32, shape=[None, None], name='labels')"
   ]
  },
  {
   "cell_type": "markdown",
   "metadata": {},
   "source": [
    "## Embedding\n",
    "\n"
   ]
  },
  {
   "cell_type": "markdown",
   "metadata": {
    "collapsed": true
   },
   "source": [
    "The embedding matrix has a size of the number of words by the number of units in the hidden layer. So, if you have 10,000 words and 300 hidden units, the matrix will have size $10,000 \\times 300$. Remember that we're using tokenized data for our inputs, usually as integers, where the number of tokens is the number of words in our vocabulary.\n",
    "\n",
    "\n",
    "> **Exercise:** Tensorflow provides a convenient function [`tf.nn.embedding_lookup`](https://www.tensorflow.org/api_docs/python/tf/nn/embedding_lookup) that does this lookup for us. You pass in the embedding matrix and a tensor of integers, then it returns rows in the matrix corresponding to those integers. Below, set the number of embedding features you'll use (200 is a good start), create the embedding matrix variable, and use `tf.nn.embedding_lookup` to get the embedding tensors. For the embedding matrix, I suggest you initialize it with a uniform random numbers between -1 and 1 using [tf.random_uniform](https://www.tensorflow.org/api_docs/python/tf/random_uniform)."
   ]
  },
  {
   "cell_type": "code",
   "execution_count": 63,
   "metadata": {
    "collapsed": true
   },
   "outputs": [],
   "source": [
    "n_vocab = len(int_to_vocab)\n",
    "n_embedding = 200 # Number of embedding features \n",
    "with train_graph.as_default():\n",
    "    embedding = tf.Variable(tf.random_uniform((n_vocab, n_embedding), -1, 1))\n",
    "    embed = tf.nn.embedding_lookup(embedding, inputs)"
   ]
  },
  {
   "cell_type": "markdown",
   "metadata": {},
   "source": [
    "## Negative sampling\n",
    "\n"
   ]
  },
  {
   "cell_type": "markdown",
   "metadata": {},
   "source": [
    "For every example we give the network, we train it using the output from the softmax layer. That means for each input, we're making very small changes to millions of weights even though we only have one true example. This makes training the network very inefficient. We can approximate the loss from the softmax layer by only updating a small subset of all the weights at once. We'll update the weights for the correct label, but only a small number of incorrect labels. This is called [\"negative sampling\"](http://papers.nips.cc/paper/5021-distributed-representations-of-words-and-phrases-and-their-compositionality.pdf). Tensorflow has a convenient function to do this, [`tf.nn.sampled_softmax_loss`](https://www.tensorflow.org/api_docs/python/tf/nn/sampled_softmax_loss).\n",
    "\n",
    "> **Exercise:** Below, create weights and biases for the softmax layer. Then, use [`tf.nn.sampled_softmax_loss`](https://www.tensorflow.org/api_docs/python/tf/nn/sampled_softmax_loss) to calculate the loss. Be sure to read the documentation to figure out how it works."
   ]
  },
  {
   "cell_type": "code",
   "execution_count": 68,
   "metadata": {},
   "outputs": [],
   "source": [
    "# Number of negative labels to sample\n",
    "n_sampled = 100\n",
    "with train_graph.as_default():\n",
    "    softmax_w = tf.Variable(tf.truncated_normal((n_vocab, n_embedding), stddev=0.1))\n",
    "    softmax_b = tf.Variable(tf.zeros(n_vocab))\n",
    "    \n",
    "    # Calculate the loss using negative sampling\n",
    "    loss = tf.nn.sampled_softmax_loss(softmax_w, softmax_b, \n",
    "                                      labels, embed, \n",
    "                                      n_sampled, n_vocab)\n",
    "    \n",
    "    cost = tf.reduce_mean(loss)\n",
    "    optimizer = tf.train.AdamOptimizer().minimize(cost)"
   ]
  },
  {
   "cell_type": "markdown",
   "metadata": {},
   "source": [
    "## Validation\n",
    "\n",
    "This code is from Thushan Ganegedara's implementation. Here we're going to choose a few common words and few uncommon words. Then, we'll print out the closest words to them. It's a nice way to check that our embedding table is grouping together words with similar semantic meanings."
   ]
  },
  {
   "cell_type": "code",
   "execution_count": 69,
   "metadata": {
    "collapsed": true
   },
   "outputs": [],
   "source": [
    "with train_graph.as_default():\n",
    "    ## From Thushan Ganegedara's implementation\n",
    "    valid_size = 16 # Random set of words to evaluate similarity on.\n",
    "    valid_window = 100\n",
    "    # pick 8 samples from (0,100) and (1000,1100) each ranges. lower id implies more frequent \n",
    "    valid_examples = np.array(random.sample(range(valid_window), valid_size//2))\n",
    "    valid_examples = np.append(valid_examples, \n",
    "                               random.sample(range(1000,1000+valid_window), valid_size//2))\n",
    "\n",
    "    valid_dataset = tf.constant(valid_examples, dtype=tf.int32)\n",
    "    \n",
    "    # We use the cosine distance:\n",
    "    norm = tf.sqrt(tf.reduce_sum(tf.square(embedding), 1, keep_dims=True))\n",
    "    normalized_embedding = embedding / norm\n",
    "    valid_embedding = tf.nn.embedding_lookup(normalized_embedding, valid_dataset)\n",
    "    similarity = tf.matmul(valid_embedding, tf.transpose(normalized_embedding))"
   ]
  },
  {
   "cell_type": "code",
   "execution_count": 70,
   "metadata": {
    "collapsed": true
   },
   "outputs": [],
   "source": [
    "# If the checkpoints directory doesn't exist:\n",
    "!mkdir checkpoints"
   ]
  },
  {
   "cell_type": "markdown",
   "metadata": {},
   "source": [
    "## Training\n",
    "\n",
    "Below is the code to train the network. Every 100 batches it reports the training loss. Every 1000 batches, it'll print out the validation words."
   ]
  },
  {
   "cell_type": "code",
   "execution_count": null,
   "metadata": {},
   "outputs": [
    {
     "name": "stdout",
     "output_type": "stream",
     "text": [
      "Epoch 1/10 Iteration: 100 Avg. Training loss: 5.6103 0.6640 sec/batch\n",
      "Epoch 1/10 Iteration: 200 Avg. Training loss: 5.5964 0.6163 sec/batch\n",
      "Epoch 1/10 Iteration: 300 Avg. Training loss: 5.4723 0.6626 sec/batch\n",
      "Epoch 1/10 Iteration: 400 Avg. Training loss: 5.5298 0.5728 sec/batch\n",
      "Epoch 1/10 Iteration: 500 Avg. Training loss: 5.4703 0.5961 sec/batch\n",
      "Epoch 1/10 Iteration: 600 Avg. Training loss: 5.4720 0.6044 sec/batch\n",
      "Epoch 1/10 Iteration: 700 Avg. Training loss: 5.5104 0.5835 sec/batch\n",
      "Epoch 1/10 Iteration: 800 Avg. Training loss: 5.4739 0.5997 sec/batch\n",
      "Epoch 1/10 Iteration: 900 Avg. Training loss: 5.3657 0.5345 sec/batch\n",
      "Epoch 1/10 Iteration: 1000 Avg. Training loss: 5.3759 0.5499 sec/batch\n",
      "Nearest to when: arm, uruguayan, imperatoribus, fabricated, tarleton, hands, iast, aelius,\n",
      "Nearest to were: summary, gaelic, nitrite, pwn, rumpus, dulles, churned, lie,\n",
      "Nearest to zero: sole, payment, lark, axons, adp, tracked, carloman, possess,\n",
      "Nearest to about: stating, benefactors, ferrite, whitey, apatosaurus, vegans, sassanid, addressing,\n",
      "Nearest to from: codifying, invaded, evangelist, natural, lollard, frutti, longing, thebes,\n",
      "Nearest to nine: whole, sitting, drawer, indictees, unaccustomed, ailuropoda, risch, frank,\n",
      "Nearest to his: antennas, desi, sergey, altenberg, however, ito, boogaloo, tunic,\n",
      "Nearest to five: harald, minas, mortally, monomorphism, umm, bengals, influential, ladykillers,\n",
      "Nearest to prince: zoomed, xie, parachutes, roi, unload, disdain, stave, lammas,\n",
      "Nearest to rise: sky, az, deflate, micron, ermey, salamanca, administers, cafiero,\n",
      "Nearest to test: reliance, smil, mmol, baptist, september, humour, bytes, pricking,\n",
      "Nearest to operations: distinct, memorandum, art, il, restatement, match, ecusa, declared,\n",
      "Nearest to governor: geo, fraud, privatization, bassas, qimei, tyrone, united, sindarin,\n",
      "Nearest to mean: interesting, maillol, fick, oup, mehmet, platz, pisan, wet,\n",
      "Nearest to professional: evaded, competing, helmed, ingesting, hb, signage, mediators, cheat,\n",
      "Nearest to instance: faithful, isuzu, casinos, orlogsflag, hippocampus, zucchini, emesa, nothing,\n",
      "Epoch 1/10 Iteration: 1100 Avg. Training loss: 5.3631 0.6076 sec/batch\n",
      "Epoch 1/10 Iteration: 1200 Avg. Training loss: 5.2840 0.4929 sec/batch\n",
      "Epoch 1/10 Iteration: 1300 Avg. Training loss: 5.1906 0.5484 sec/batch\n",
      "Epoch 1/10 Iteration: 1400 Avg. Training loss: 5.1495 0.7014 sec/batch\n",
      "Epoch 1/10 Iteration: 1500 Avg. Training loss: 5.0536 0.6376 sec/batch\n",
      "Epoch 1/10 Iteration: 1600 Avg. Training loss: 5.0358 0.6013 sec/batch\n",
      "Epoch 1/10 Iteration: 1700 Avg. Training loss: 4.9636 0.5950 sec/batch\n",
      "Epoch 1/10 Iteration: 1800 Avg. Training loss: 4.9713 0.5709 sec/batch\n",
      "Epoch 1/10 Iteration: 1900 Avg. Training loss: 4.9070 0.5463 sec/batch\n",
      "Epoch 1/10 Iteration: 2000 Avg. Training loss: 4.9087 0.5515 sec/batch\n",
      "Nearest to when: arm, hands, uruguayan, fabricated, imperatoribus, park, desire, distances,\n",
      "Nearest to were: summary, gaelic, lie, nitrite, angeles, xerox, outbursts, pwn,\n",
      "Nearest to zero: payment, sole, possess, tracked, italian, apportioned, lark, carloman,\n",
      "Nearest to about: stating, addressing, ferrite, vegans, benefactors, whitey, sassanid, continuing,\n",
      "Nearest to from: executives, codifying, invaded, partition, own, longing, regardless, natural,\n",
      "Nearest to nine: frank, briefly, drawer, indictees, lock, embracing, brigade, whole,\n",
      "Nearest to his: antennas, desi, however, sergey, protested, playing, altenberg, scores,\n",
      "Nearest to five: influential, mortally, harald, bengals, minas, females, monomorphism, bets,\n",
      "Nearest to prince: zoomed, parachutes, unload, stave, xie, disdain, forgiving, roi,\n",
      "Nearest to rise: sky, az, advantage, administers, p, ermey, gorbachev, deflate,\n",
      "Nearest to test: reliance, september, smil, humour, side, baptist, mmol, bytes,\n",
      "Nearest to operations: distinct, art, il, match, declared, restatement, enter, memorandum,\n",
      "Nearest to governor: privatization, fraud, united, geo, bassas, estonian, saintly, elsewhere,\n",
      "Nearest to mean: interesting, warship, fick, wet, maillol, recipient, oup, lines,\n",
      "Nearest to professional: competing, helmed, afford, cheat, evaded, normal, charles, ensure,\n",
      "Nearest to instance: faithful, nothing, embedded, composition, cutting, orlogsflag, lowell, surveyor,\n",
      "Epoch 1/10 Iteration: 2100 Avg. Training loss: 4.8568 0.5748 sec/batch\n",
      "Epoch 1/10 Iteration: 2200 Avg. Training loss: 4.8610 0.6654 sec/batch\n",
      "Epoch 1/10 Iteration: 2300 Avg. Training loss: 4.8211 0.6229 sec/batch\n",
      "Epoch 1/10 Iteration: 2400 Avg. Training loss: 4.8416 0.6306 sec/batch\n",
      "Epoch 1/10 Iteration: 2500 Avg. Training loss: 4.7737 0.6153 sec/batch\n",
      "Epoch 1/10 Iteration: 2600 Avg. Training loss: 4.7847 0.5625 sec/batch\n",
      "Epoch 1/10 Iteration: 2700 Avg. Training loss: 4.7608 0.6633 sec/batch\n",
      "Epoch 1/10 Iteration: 2800 Avg. Training loss: 4.7612 0.8018 sec/batch\n",
      "Epoch 1/10 Iteration: 2900 Avg. Training loss: 4.7703 0.8940 sec/batch\n",
      "Epoch 1/10 Iteration: 3000 Avg. Training loss: 4.7642 0.6915 sec/batch\n",
      "Nearest to when: arm, hands, uruguayan, fabricated, tasmania, gypsum, legalistic, imperatoribus,\n",
      "Nearest to were: gaelic, summary, nitrite, lie, reconstruct, pwn, rumpus, morphine,\n",
      "Nearest to zero: payment, sole, tracked, ubiquitous, adp, italian, apportioned, possess,\n",
      "Nearest to about: stating, benefactors, whitey, addressing, vegans, sassanid, ferrite, obese,\n",
      "Nearest to from: codifying, executives, invaded, lollard, partition, messerschmitt, finalised, portfolio,\n",
      "Nearest to nine: frank, brigade, greg, turkmenistan, coyne, unaccustomed, lock, drawer,\n",
      "Nearest to his: antennas, desi, sergey, however, ito, tunic, alternativa, protested,\n",
      "Nearest to five: mortally, influential, ramifications, minas, relatedness, harald, geocities, brassiere,\n",
      "Nearest to prince: zoomed, parachutes, roi, stave, unload, xie, forgiving, antiquated,\n",
      "Nearest to rise: sky, az, deflate, administers, ermey, salamanca, gorbachev, advantage,\n",
      "Nearest to test: reliance, smil, baptist, bytes, mmol, hillside, side, september,\n",
      "Nearest to operations: distinct, art, il, memorandum, restatement, idi, match, finely,\n",
      "Nearest to governor: privatization, estonian, united, geo, polynesia, fraud, saintly, deflected,\n",
      "Nearest to mean: interesting, fick, warship, oup, maillol, recipient, installation, wet,\n",
      "Nearest to professional: competing, evaded, helmed, cheat, ingesting, afford, freeman, bitter,\n",
      "Nearest to instance: faithful, nothing, cutting, isuzu, hippocampus, orlogsflag, composition, embedded,\n",
      "Epoch 1/10 Iteration: 3100 Avg. Training loss: 4.7785 0.6639 sec/batch\n",
      "Epoch 1/10 Iteration: 3200 Avg. Training loss: 4.7168 0.6373 sec/batch\n",
      "Epoch 1/10 Iteration: 3300 Avg. Training loss: 4.7134 0.6460 sec/batch\n",
      "Epoch 1/10 Iteration: 3400 Avg. Training loss: 4.6877 0.9199 sec/batch\n",
      "Epoch 1/10 Iteration: 3500 Avg. Training loss: 4.7324 0.6115 sec/batch\n",
      "Epoch 1/10 Iteration: 3600 Avg. Training loss: 4.6662 0.6206 sec/batch\n",
      "Epoch 1/10 Iteration: 3700 Avg. Training loss: 4.6778 0.6035 sec/batch\n",
      "Epoch 1/10 Iteration: 3800 Avg. Training loss: 4.7425 0.6362 sec/batch\n",
      "Epoch 1/10 Iteration: 3900 Avg. Training loss: 4.6969 0.5711 sec/batch\n",
      "Epoch 1/10 Iteration: 4000 Avg. Training loss: 4.6506 0.6237 sec/batch\n",
      "Nearest to when: arm, uruguayan, fabricated, hands, legalistic, indie, inglewood, imperatoribus,\n",
      "Nearest to were: rumpus, pwn, reconstruct, gaelic, summary, nitrite, toothbrush, dulles,\n",
      "Nearest to zero: payment, adp, nine, million, italian, sole, deaths, five,\n",
      "Nearest to about: addressing, benefactors, stating, apatosaurus, whitey, obese, incompleteness, vegans,\n",
      "Nearest to from: codifying, invaded, messerschmitt, partition, lollard, executives, hermetic, finalised,\n",
      "Nearest to nine: frank, chemist, turkmenistan, greg, brigade, zero, aiken, lithuanian,\n",
      "Nearest to his: sergey, antennas, desi, alternativa, tunic, ito, surreptitiously, famed,\n",
      "Nearest to five: mortally, actress, seven, minas, ramifications, influential, brassiere, sq,\n",
      "Nearest to prince: zoomed, roi, stave, parachutes, xie, unload, forgiving, paws,\n",
      "Nearest to rise: sky, az, deflate, ermey, salamanca, gorbachev, advantage, p,\n",
      "Nearest to test: smil, reliance, bytes, baptist, mmol, consequentialism, hillside, protocol,\n",
      "Nearest to operations: distinct, memorandum, restatement, art, idi, il, stouffer, incredible,\n",
      "Nearest to governor: united, privatization, estonian, polynesia, unicameral, geo, president, zhou,\n",
      "Nearest to mean: interesting, fick, oup, maillol, given, warship, installation, dysfunctional,\n",
      "Nearest to professional: competing, evaded, freeman, comically, ingesting, helmed, bitter, cheat,\n",
      "Nearest to instance: faithful, embedded, isuzu, hippocampus, unsatisfactory, nothing, orlogsflag, cutting,\n"
     ]
    },
    {
     "name": "stdout",
     "output_type": "stream",
     "text": [
      "Epoch 1/10 Iteration: 4100 Avg. Training loss: 4.6857 0.5763 sec/batch\n",
      "Epoch 1/10 Iteration: 4200 Avg. Training loss: 4.6420 0.5615 sec/batch\n",
      "Epoch 1/10 Iteration: 4300 Avg. Training loss: 4.6044 0.5690 sec/batch\n",
      "Epoch 1/10 Iteration: 4400 Avg. Training loss: 4.6223 0.5727 sec/batch\n",
      "Epoch 1/10 Iteration: 4500 Avg. Training loss: 4.6152 0.5665 sec/batch\n",
      "Epoch 1/10 Iteration: 4600 Avg. Training loss: 4.6555 0.5922 sec/batch\n",
      "Epoch 2/10 Iteration: 4700 Avg. Training loss: 4.5947 0.4447 sec/batch\n",
      "Epoch 2/10 Iteration: 4800 Avg. Training loss: 4.5616 0.5588 sec/batch\n",
      "Epoch 2/10 Iteration: 4900 Avg. Training loss: 4.4976 0.5790 sec/batch\n",
      "Epoch 2/10 Iteration: 5000 Avg. Training loss: 4.4807 0.6096 sec/batch\n",
      "Nearest to when: arm, hands, fabricated, uruguayan, gypsum, inglewood, vorkosigan, legalistic,\n",
      "Nearest to were: pwn, rumpus, nitrite, reconstruct, toothbrush, summary, chulainn, gaelic,\n",
      "Nearest to zero: five, nine, adp, migrant, million, nicolas, italian, six,\n",
      "Nearest to about: obese, apatosaurus, benefactors, addressing, whitey, fossilization, stating, worshipping,\n",
      "Nearest to from: messerschmitt, lollard, codifying, partition, invaded, gyre, hermetic, finalised,\n",
      "Nearest to nine: frank, chemist, greg, turkmenistan, gustaf, zero, brigade, economist,\n",
      "Nearest to his: sergey, alternativa, desi, famed, troubles, ito, tunic, interruption,\n",
      "Nearest to five: seven, actress, mortally, minas, zero, one, six, marquis,\n",
      "Nearest to prince: zoomed, roi, parachutes, forgiving, jos, stave, andrew, ezra,\n",
      "Nearest to rise: sky, az, deflate, micron, ermey, section, polanyi, muad,\n",
      "Nearest to test: smil, reliance, consequentialism, mmol, bytes, protocol, hillside, baptist,\n",
      "Nearest to operations: distinct, stouffer, memorandum, restatement, disadvantages, idi, mawson, groupoid,\n",
      "Nearest to governor: privatization, united, unicameral, estonian, president, polynesia, geo, zhou,\n",
      "Nearest to mean: interesting, given, fick, oup, installation, lines, maillol, dysfunctional,\n",
      "Nearest to professional: competing, freeman, ingesting, comically, cheat, evaded, bitter, helmed,\n",
      "Nearest to instance: embedded, hippocampus, faithful, isuzu, cutting, unsatisfactory, relative, composition,\n",
      "Epoch 2/10 Iteration: 5100 Avg. Training loss: 4.4871 0.5264 sec/batch\n",
      "Epoch 2/10 Iteration: 5200 Avg. Training loss: 4.4830 0.4852 sec/batch\n",
      "Epoch 2/10 Iteration: 5300 Avg. Training loss: 4.4712 0.4629 sec/batch\n",
      "Epoch 2/10 Iteration: 5400 Avg. Training loss: 4.5486 0.4585 sec/batch\n",
      "Epoch 2/10 Iteration: 5500 Avg. Training loss: 4.4585 0.4567 sec/batch\n",
      "Epoch 2/10 Iteration: 5600 Avg. Training loss: 4.4768 0.4664 sec/batch\n",
      "Epoch 2/10 Iteration: 5700 Avg. Training loss: 4.4661 0.4787 sec/batch\n",
      "Epoch 2/10 Iteration: 5800 Avg. Training loss: 4.4064 0.4770 sec/batch\n",
      "Epoch 2/10 Iteration: 5900 Avg. Training loss: 4.4370 0.4590 sec/batch\n",
      "Epoch 2/10 Iteration: 6000 Avg. Training loss: 4.4137 0.4591 sec/batch\n",
      "Nearest to when: arm, hands, fabricated, vorkosigan, nontrivial, gypsum, legalistic, uruguayan,\n",
      "Nearest to were: pwn, toothbrush, rumpus, nitrite, chulainn, reconstruct, gaelic, summary,\n",
      "Nearest to zero: million, nine, migrant, five, adp, bbl, two, est,\n",
      "Nearest to about: apatosaurus, obese, whitey, reflecting, addressing, worshipping, vegans, nihilists,\n",
      "Nearest to from: lollard, partition, hermetic, messerschmitt, codifying, gyre, illegitimacy, invaded,\n",
      "Nearest to nine: frank, chemist, zero, aiken, greg, turkmenistan, gustaf, arity,\n",
      "Nearest to his: sergey, alternativa, desi, tunic, famed, interruption, troubles, ito,\n",
      "Nearest to five: minas, seven, zero, est, sq, mortally, missourians, ramifications,\n",
      "Nearest to prince: zoomed, roi, xie, parachutes, stave, ezra, forgiving, jos,\n",
      "Nearest to rise: sky, deflate, az, micron, ermey, vdots, riverdale, integration,\n",
      "Nearest to test: smil, reliance, consequentialism, bytes, protocol, mmol, pricking, niche,\n",
      "Nearest to operations: distinct, stouffer, memorandum, restatement, function, disadvantages, groupoid, mawson,\n",
      "Nearest to governor: unicameral, privatization, united, president, estonian, ministers, acquiring, polynesia,\n",
      "Nearest to mean: interesting, given, oup, fick, maillol, lines, montessori, dysfunctional,\n",
      "Nearest to professional: competing, freeman, cheat, ingesting, evaded, comically, helmed, fluffy,\n",
      "Nearest to instance: embedded, hippocampus, isuzu, faithful, rayon, unsatisfactory, cutting, emesa,\n",
      "Epoch 2/10 Iteration: 6100 Avg. Training loss: 4.4298 0.4713 sec/batch\n",
      "Epoch 2/10 Iteration: 6200 Avg. Training loss: 4.4020 0.4653 sec/batch\n",
      "Epoch 2/10 Iteration: 6300 Avg. Training loss: 4.4452 0.4586 sec/batch\n",
      "Epoch 2/10 Iteration: 6400 Avg. Training loss: 4.3989 0.4761 sec/batch\n",
      "Epoch 2/10 Iteration: 6500 Avg. Training loss: 4.4101 0.4873 sec/batch\n",
      "Epoch 2/10 Iteration: 6600 Avg. Training loss: 4.4603 0.4652 sec/batch\n",
      "Epoch 2/10 Iteration: 6700 Avg. Training loss: 4.3805 0.4606 sec/batch\n",
      "Epoch 2/10 Iteration: 6800 Avg. Training loss: 4.3541 0.6439 sec/batch\n",
      "Epoch 2/10 Iteration: 6900 Avg. Training loss: 4.4214 0.5636 sec/batch\n",
      "Epoch 2/10 Iteration: 7000 Avg. Training loss: 4.3640 0.5870 sec/batch\n",
      "Nearest to when: arm, vorkosigan, hands, nontrivial, fabricated, gypsum, blasters, freewheelin,\n",
      "Nearest to were: pwn, toothbrush, nitrite, chulainn, summary, rumpus, blade, contacts,\n",
      "Nearest to zero: nine, five, migrant, million, two, adp, six, bbl,\n",
      "Nearest to about: apatosaurus, obese, whitey, kora, reflecting, addressing, fossilization, incompleteness,\n",
      "Nearest to from: lollard, hermetic, partition, sprung, gyre, codifying, case, messerschmitt,\n",
      "Nearest to nine: frank, chemist, zero, greg, gustaf, turkmenistan, two, aiken,\n",
      "Nearest to his: sergey, desi, alternativa, tunic, famed, him, surreptitiously, boii,\n",
      "Nearest to five: minas, seven, zero, est, ramifications, mortally, missourians, transatlantic,\n",
      "Nearest to prince: zoomed, roi, jos, xie, throne, forgiving, antiquated, stave,\n",
      "Nearest to rise: sky, deflate, az, ermey, micron, riverdale, promontory, muad,\n",
      "Nearest to test: smil, reliance, consequentialism, protocol, bytes, mmol, niche, pumps,\n",
      "Nearest to operations: distinct, stouffer, memorandum, asw, restatement, disadvantages, algorithm, mawson,\n",
      "Nearest to governor: unicameral, privatization, president, estonian, united, ministers, geo, polynesia,\n",
      "Nearest to mean: interesting, given, oup, fick, montessori, dysfunctional, transwomen, maillol,\n",
      "Nearest to professional: competing, freeman, ingesting, cheat, comically, bitter, nightlife, evaded,\n",
      "Nearest to instance: embedded, hippocampus, emesa, isuzu, unsatisfactory, analytically, rayon, cutting,\n",
      "Epoch 2/10 Iteration: 7100 Avg. Training loss: 4.3672 0.5124 sec/batch\n",
      "Epoch 2/10 Iteration: 7200 Avg. Training loss: 4.3921 0.4958 sec/batch\n",
      "Epoch 2/10 Iteration: 7300 Avg. Training loss: 4.3749 0.5121 sec/batch\n",
      "Epoch 2/10 Iteration: 7400 Avg. Training loss: 4.3375 0.5424 sec/batch\n",
      "Epoch 2/10 Iteration: 7500 Avg. Training loss: 4.3866 0.6550 sec/batch\n",
      "Epoch 2/10 Iteration: 7600 Avg. Training loss: 4.3819 0.4844 sec/batch\n",
      "Epoch 2/10 Iteration: 7700 Avg. Training loss: 4.3903 0.4977 sec/batch\n",
      "Epoch 2/10 Iteration: 7800 Avg. Training loss: 4.3756 0.5358 sec/batch\n",
      "Epoch 2/10 Iteration: 7900 Avg. Training loss: 4.3500 0.5001 sec/batch\n",
      "Epoch 2/10 Iteration: 8000 Avg. Training loss: 4.3148 0.5193 sec/batch\n",
      "Nearest to when: arm, hands, vorkosigan, nontrivial, freewheelin, gypsum, uruguayan, fabricated,\n",
      "Nearest to were: toothbrush, pwn, rumpus, chulainn, constantinople, contacts, summary, monarchists,\n",
      "Nearest to zero: nine, five, two, migrant, million, six, deaths, est,\n",
      "Nearest to about: apatosaurus, obese, fossilization, reflecting, addressing, scientific, history, bihar,\n",
      "Nearest to from: partition, lollard, hermetic, seasonal, gyre, sprung, invaded, codifying,\n",
      "Nearest to nine: zero, frank, two, chemist, greg, three, aiken, gustaf,\n",
      "Nearest to his: desi, sergey, alternativa, boii, interruption, heretics, tunic, surreptitiously,\n",
      "Nearest to five: minas, zero, seven, est, three, ramifications, missourians, six,\n",
      "Nearest to prince: zoomed, roi, throne, xie, jos, turks, stave, prussia,\n",
      "Nearest to rise: sky, deflate, az, section, integration, riverdale, doubled, micron,\n",
      "Nearest to test: smil, protocol, consequentialism, bytes, reliance, mmol, niche, pumps,\n",
      "Nearest to operations: stouffer, distinct, memorandum, us, mawson, asw, algorithm, disadvantages,\n",
      "Nearest to governor: unicameral, privatization, president, ministers, estonian, united, acquiring, zhou,\n",
      "Nearest to mean: interesting, given, oup, fick, montessori, transwomen, dysfunctional, skeptic,\n",
      "Nearest to professional: competing, freeman, ingesting, cheat, fluffy, fan, comically, nightlife,\n",
      "Nearest to instance: embedded, hippocampus, faithful, unsatisfactory, isuzu, analytically, rayon, wir,\n"
     ]
    },
    {
     "name": "stdout",
     "output_type": "stream",
     "text": [
      "Epoch 2/10 Iteration: 8100 Avg. Training loss: 4.3645 0.6408 sec/batch\n",
      "Epoch 2/10 Iteration: 8200 Avg. Training loss: 4.3512 0.5496 sec/batch\n",
      "Epoch 2/10 Iteration: 8300 Avg. Training loss: 4.3824 0.5118 sec/batch\n",
      "Epoch 2/10 Iteration: 8400 Avg. Training loss: 4.4132 0.5025 sec/batch\n",
      "Epoch 2/10 Iteration: 8500 Avg. Training loss: 4.3972 0.5223 sec/batch\n",
      "Epoch 2/10 Iteration: 8600 Avg. Training loss: 4.3025 0.5808 sec/batch\n",
      "Epoch 2/10 Iteration: 8700 Avg. Training loss: 4.3009 0.5620 sec/batch\n",
      "Epoch 2/10 Iteration: 8800 Avg. Training loss: 4.3181 0.5286 sec/batch\n",
      "Epoch 2/10 Iteration: 8900 Avg. Training loss: 4.2205 0.5870 sec/batch\n",
      "Epoch 2/10 Iteration: 9000 Avg. Training loss: 4.2998 0.6865 sec/batch\n",
      "Nearest to when: arm, vorkosigan, hands, tarleton, uruguayan, nontrivial, gypsum, freewheelin,\n",
      "Nearest to were: toothbrush, pwn, stay, contacts, blade, chulainn, rumpus, nitrite,\n",
      "Nearest to zero: migrant, two, five, nine, six, deaths, million, est,\n",
      "Nearest to about: apatosaurus, obese, bihar, reflecting, history, mtu, fossilization, scientific,\n",
      "Nearest to from: partition, invaded, hermetic, gyre, seasonal, codifying, sprung, lollard,\n",
      "Nearest to nine: frank, zero, chemist, two, greg, three, gustaf, biologist,\n",
      "Nearest to his: sergey, desi, alternativa, tunic, him, boii, heretics, chores,\n",
      "Nearest to five: zero, minas, seven, est, three, six, one, two,\n",
      "Nearest to prince: zoomed, roi, throne, prussia, jos, xie, browski, forgiving,\n",
      "Nearest to rise: sky, deflate, az, riverdale, micron, ermey, doubled, section,\n",
      "Nearest to test: smil, protocol, consequentialism, mmol, reliance, hillside, september, pumps,\n",
      "Nearest to operations: stouffer, distinct, memorandum, asw, identity, us, algorithm, mawson,\n",
      "Nearest to governor: unicameral, ministers, privatization, estonian, president, acquiring, tyrone, united,\n",
      "Nearest to mean: interesting, given, oup, fick, montessori, skeptic, quelques, transwomen,\n",
      "Nearest to professional: competing, freeman, skateboarder, cheat, ingesting, comically, helmed, limpbizkit,\n",
      "Nearest to instance: embedded, unsatisfactory, hippocampus, isuzu, faithful, rayon, grammar, analytically,\n",
      "Epoch 2/10 Iteration: 9100 Avg. Training loss: 4.3125 0.6549 sec/batch\n",
      "Epoch 2/10 Iteration: 9200 Avg. Training loss: 4.3077 0.6826 sec/batch\n",
      "Epoch 3/10 Iteration: 9300 Avg. Training loss: 4.3425 0.3644 sec/batch\n",
      "Epoch 3/10 Iteration: 9400 Avg. Training loss: 4.2515 0.6637 sec/batch\n",
      "Epoch 3/10 Iteration: 9500 Avg. Training loss: 4.2443 0.6386 sec/batch\n",
      "Epoch 3/10 Iteration: 9600 Avg. Training loss: 4.2294 0.5948 sec/batch\n",
      "Epoch 3/10 Iteration: 9700 Avg. Training loss: 4.2002 0.7749 sec/batch\n",
      "Epoch 3/10 Iteration: 9800 Avg. Training loss: 4.2047 0.7487 sec/batch\n",
      "Epoch 3/10 Iteration: 9900 Avg. Training loss: 4.2309 0.6167 sec/batch\n",
      "Epoch 3/10 Iteration: 10000 Avg. Training loss: 4.1770 0.7003 sec/batch\n",
      "Nearest to when: arm, vorkosigan, hands, tarleton, uruguayan, freewheelin, delay, outfielder,\n",
      "Nearest to were: pwn, toothbrush, blade, stay, chulainn, contacts, hamilcar, reconstruct,\n",
      "Nearest to zero: two, migrant, five, nine, six, est, deaths, million,\n",
      "Nearest to about: apatosaurus, bihar, reflecting, coastline, kora, fossilization, obese, history,\n",
      "Nearest to from: invaded, partition, gyre, hermetic, sprung, lollard, seasonal, occupies,\n",
      "Nearest to nine: zero, frank, two, greg, chemist, three, gustaf, aiken,\n",
      "Nearest to his: sergey, desi, alternativa, tunic, boii, heretics, chores, proclus,\n",
      "Nearest to five: zero, minas, seven, three, est, six, one, two,\n",
      "Nearest to prince: zoomed, throne, cheering, roi, forgiving, browski, xie, parachutes,\n",
      "Nearest to rise: sky, deflate, az, promontory, riverdale, micron, doubled, gorbachev,\n",
      "Nearest to test: smil, protocol, mmol, consequentialism, reliance, september, niche, hillside,\n",
      "Nearest to operations: stouffer, us, memorandum, asw, algorithm, identity, distinct, function,\n",
      "Nearest to governor: unicameral, privatization, ministers, geo, bicameral, acquiring, president, bassas,\n",
      "Nearest to mean: interesting, oup, given, fick, quelques, montessori, immigration, corruptions,\n",
      "Nearest to professional: competing, freeman, cheat, skateboarder, ingesting, helmed, nightlife, afford,\n",
      "Nearest to instance: unsatisfactory, embedded, orlogsflag, hippocampus, faithful, emesa, analytically, isuzu,\n",
      "Epoch 3/10 Iteration: 10100 Avg. Training loss: 4.2389 0.6689 sec/batch\n",
      "Epoch 3/10 Iteration: 10200 Avg. Training loss: 4.2308 0.6381 sec/batch\n",
      "Epoch 3/10 Iteration: 10300 Avg. Training loss: 4.2313 0.5564 sec/batch\n",
      "Epoch 3/10 Iteration: 10400 Avg. Training loss: 4.1317 0.6158 sec/batch\n",
      "Epoch 3/10 Iteration: 10500 Avg. Training loss: 4.1857 0.5400 sec/batch\n",
      "Epoch 3/10 Iteration: 10600 Avg. Training loss: 4.1815 0.6434 sec/batch\n",
      "Epoch 3/10 Iteration: 10700 Avg. Training loss: 4.1555 0.5376 sec/batch\n",
      "Epoch 3/10 Iteration: 10800 Avg. Training loss: 4.2103 0.6605 sec/batch\n",
      "Epoch 3/10 Iteration: 10900 Avg. Training loss: 4.2109 0.5592 sec/batch\n"
     ]
    }
   ],
   "source": [
    "epochs = 10\n",
    "batch_size = 1000\n",
    "window_size = 10\n",
    "\n",
    "with train_graph.as_default():\n",
    "    saver = tf.train.Saver()\n",
    "\n",
    "with tf.Session(graph=train_graph) as sess:\n",
    "    iteration = 1\n",
    "    loss = 0\n",
    "    sess.run(tf.global_variables_initializer())\n",
    "\n",
    "    for e in range(1, epochs+1):\n",
    "        batches = get_batches(train_words, batch_size, window_size)\n",
    "        start = time.time()\n",
    "        for x, y in batches:\n",
    "            \n",
    "            feed = {inputs: x,\n",
    "                    labels: np.array(y)[:, None]}\n",
    "            train_loss, _ = sess.run([cost, optimizer], feed_dict=feed)\n",
    "            \n",
    "            loss += train_loss\n",
    "            \n",
    "            if iteration % 100 == 0: \n",
    "                end = time.time()\n",
    "                print(\"Epoch {}/{}\".format(e, epochs),\n",
    "                      \"Iteration: {}\".format(iteration),\n",
    "                      \"Avg. Training loss: {:.4f}\".format(loss/100),\n",
    "                      \"{:.4f} sec/batch\".format((end-start)/100))\n",
    "                loss = 0\n",
    "                start = time.time()\n",
    "            \n",
    "            if iteration % 1000 == 0:\n",
    "                ## From Thushan Ganegedara's implementation\n",
    "                # note that this is expensive (~20% slowdown if computed every 500 steps)\n",
    "                sim = similarity.eval()\n",
    "                for i in range(valid_size):\n",
    "                    valid_word = int_to_vocab[valid_examples[i]]\n",
    "                    top_k = 8 # number of nearest neighbors\n",
    "                    nearest = (-sim[i, :]).argsort()[1:top_k+1]\n",
    "                    log = 'Nearest to %s:' % valid_word\n",
    "                    for k in range(top_k):\n",
    "                        close_word = int_to_vocab[nearest[k]]\n",
    "                        log = '%s %s,' % (log, close_word)\n",
    "                    print(log)\n",
    "            \n",
    "            iteration += 1\n",
    "    save_path = saver.save(sess, \"checkpoints/text8.ckpt\")\n",
    "    embed_mat = sess.run(normalized_embedding)"
   ]
  },
  {
   "cell_type": "markdown",
   "metadata": {},
   "source": [
    "Restore the trained network if you need to:"
   ]
  },
  {
   "cell_type": "code",
   "execution_count": null,
   "metadata": {
    "collapsed": true
   },
   "outputs": [],
   "source": [
    "with train_graph.as_default():\n",
    "    saver = tf.train.Saver()\n",
    "\n",
    "with tf.Session(graph=train_graph) as sess:\n",
    "    saver.restore(sess, tf.train.latest_checkpoint('checkpoints'))\n",
    "    embed_mat = sess.run(embedding)"
   ]
  },
  {
   "cell_type": "markdown",
   "metadata": {},
   "source": [
    "## Visualizing the word vectors\n",
    "\n",
    "Below we'll use T-SNE to visualize how our high-dimensional word vectors cluster together. T-SNE is used to project these vectors into two dimensions while preserving local stucture. Check out [this post from Christopher Olah](http://colah.github.io/posts/2014-10-Visualizing-MNIST/) to learn more about T-SNE and other ways to visualize high-dimensional data."
   ]
  },
  {
   "cell_type": "code",
   "execution_count": null,
   "metadata": {
    "collapsed": true
   },
   "outputs": [],
   "source": [
    "%matplotlib inline\n",
    "%config InlineBackend.figure_format = 'retina'\n",
    "\n",
    "import matplotlib.pyplot as plt\n",
    "from sklearn.manifold import TSNE"
   ]
  },
  {
   "cell_type": "code",
   "execution_count": null,
   "metadata": {
    "collapsed": true
   },
   "outputs": [],
   "source": [
    "viz_words = 500\n",
    "tsne = TSNE()\n",
    "embed_tsne = tsne.fit_transform(embed_mat[:viz_words, :])"
   ]
  },
  {
   "cell_type": "code",
   "execution_count": null,
   "metadata": {
    "collapsed": true
   },
   "outputs": [],
   "source": [
    "fig, ax = plt.subplots(figsize=(14, 14))\n",
    "for idx in range(viz_words):\n",
    "    plt.scatter(*embed_tsne[idx, :], color='steelblue')\n",
    "    plt.annotate(int_to_vocab[idx], (embed_tsne[idx, 0], embed_tsne[idx, 1]), alpha=0.7)"
   ]
  }
 ],
 "metadata": {
  "kernelspec": {
   "display_name": "Python 3",
   "language": "python",
   "name": "python3"
  },
  "language_info": {
   "codemirror_mode": {
    "name": "ipython",
    "version": 3
   },
   "file_extension": ".py",
   "mimetype": "text/x-python",
   "name": "python",
   "nbconvert_exporter": "python",
   "pygments_lexer": "ipython3",
   "version": "3.6.1"
  }
 },
 "nbformat": 4,
 "nbformat_minor": 2
}
